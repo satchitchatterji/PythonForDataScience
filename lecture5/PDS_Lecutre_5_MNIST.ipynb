{
 "cells": [
  {
   "cell_type": "markdown",
   "id": "4e395c25",
   "metadata": {},
   "source": [
    "# Python for Data Science 2022\n",
    "_Author: Satchit Chatterji (satchit.chatterji@gmail.com)_\n",
    "\n",
    "## Tangent: Introduction to NNs\n",
    "> Today's question: **How can I classify handwritten digits?**\n",
    "\n",
    "Neural networks are getting more and more popular as they get more and more powerful. Thus, it is imperative to know how they are used and at least a high-level understanding of what they are and how they are implemented. Thus, in today's lecture, we'll be going through a famous introduction application of neural networks -- MNIST handwritten digit recognition.\n",
    "\n",
    "#### Learning outcomes:\n",
    "- Tensorflow basics\n",
    "- Reshaping inputs, outputs\n",
    "- Creating a Sequential model\n",
    "- Training a model\n",
    "- GPU acceleration (just a sprinkle)\n",
    "- Overfitting/underfitting + validation"
   ]
  },
  {
   "cell_type": "markdown",
   "id": "32607dff",
   "metadata": {},
   "source": [
    "First, we load common libraries becuase it is very likely that we will use them in our project."
   ]
  },
  {
   "cell_type": "code",
   "execution_count": 1,
   "id": "ca970e0f",
   "metadata": {},
   "outputs": [],
   "source": [
    "import matplotlib.pyplot as plt # plotting data and results\n",
    "import numpy as np              # reshaping and basic numerical methods"
   ]
  },
  {
   "cell_type": "markdown",
   "id": "0baf926c",
   "metadata": {},
   "source": [
    "Tensorflow is a machine learning framework primarily built and maintained by Google that makes it very simple to create machine learning models. In our case, we want to build an MLP, so this library suffices."
   ]
  },
  {
   "cell_type": "code",
   "execution_count": 2,
   "id": "08f67779",
   "metadata": {},
   "outputs": [],
   "source": [
    "import tensorflow as tf\n",
    "from tensorflow.keras import layers, losses, models, optimizers"
   ]
  },
  {
   "cell_type": "markdown",
   "id": "89ea51c9",
   "metadata": {},
   "source": [
    "Now, we need to get our MNIST dataset from somewhere. We could get them from the 'original' website, http://yann.lecun.com/exdb/mnist/, but luckily for us, it comes pre-packaged in Tensorflow.\n",
    "\n",
    "> Why would a dataset come pre-packaged in a library like TF?"
   ]
  },
  {
   "cell_type": "code",
   "execution_count": null,
   "id": "31358cb4",
   "metadata": {},
   "outputs": [],
   "source": [
    "from tensorflow.keras.datasets import mnist"
   ]
  },
  {
   "cell_type": "markdown",
   "id": "a55323bd",
   "metadata": {},
   "source": [
    "Load data"
   ]
  },
  {
   "cell_type": "code",
   "execution_count": 141,
   "id": "e878dd88",
   "metadata": {},
   "outputs": [],
   "source": [
    "(x_train, y_train), (x_test, y_test) = mnist.load_data()"
   ]
  },
  {
   "cell_type": "markdown",
   "id": "a64d02c3",
   "metadata": {},
   "source": [
    "What do we do when we first load data?\n",
    "\n",
    "- Look at inputs\n",
    "- Look at outputs"
   ]
  },
  {
   "cell_type": "code",
   "execution_count": 142,
   "id": "79f272b7",
   "metadata": {},
   "outputs": [
    {
     "data": {
      "text/plain": [
       "array([[[0, 0, 0, ..., 0, 0, 0],\n",
       "        [0, 0, 0, ..., 0, 0, 0],\n",
       "        [0, 0, 0, ..., 0, 0, 0],\n",
       "        ...,\n",
       "        [0, 0, 0, ..., 0, 0, 0],\n",
       "        [0, 0, 0, ..., 0, 0, 0],\n",
       "        [0, 0, 0, ..., 0, 0, 0]],\n",
       "\n",
       "       [[0, 0, 0, ..., 0, 0, 0],\n",
       "        [0, 0, 0, ..., 0, 0, 0],\n",
       "        [0, 0, 0, ..., 0, 0, 0],\n",
       "        ...,\n",
       "        [0, 0, 0, ..., 0, 0, 0],\n",
       "        [0, 0, 0, ..., 0, 0, 0],\n",
       "        [0, 0, 0, ..., 0, 0, 0]],\n",
       "\n",
       "       [[0, 0, 0, ..., 0, 0, 0],\n",
       "        [0, 0, 0, ..., 0, 0, 0],\n",
       "        [0, 0, 0, ..., 0, 0, 0],\n",
       "        ...,\n",
       "        [0, 0, 0, ..., 0, 0, 0],\n",
       "        [0, 0, 0, ..., 0, 0, 0],\n",
       "        [0, 0, 0, ..., 0, 0, 0]],\n",
       "\n",
       "       ...,\n",
       "\n",
       "       [[0, 0, 0, ..., 0, 0, 0],\n",
       "        [0, 0, 0, ..., 0, 0, 0],\n",
       "        [0, 0, 0, ..., 0, 0, 0],\n",
       "        ...,\n",
       "        [0, 0, 0, ..., 0, 0, 0],\n",
       "        [0, 0, 0, ..., 0, 0, 0],\n",
       "        [0, 0, 0, ..., 0, 0, 0]],\n",
       "\n",
       "       [[0, 0, 0, ..., 0, 0, 0],\n",
       "        [0, 0, 0, ..., 0, 0, 0],\n",
       "        [0, 0, 0, ..., 0, 0, 0],\n",
       "        ...,\n",
       "        [0, 0, 0, ..., 0, 0, 0],\n",
       "        [0, 0, 0, ..., 0, 0, 0],\n",
       "        [0, 0, 0, ..., 0, 0, 0]],\n",
       "\n",
       "       [[0, 0, 0, ..., 0, 0, 0],\n",
       "        [0, 0, 0, ..., 0, 0, 0],\n",
       "        [0, 0, 0, ..., 0, 0, 0],\n",
       "        ...,\n",
       "        [0, 0, 0, ..., 0, 0, 0],\n",
       "        [0, 0, 0, ..., 0, 0, 0],\n",
       "        [0, 0, 0, ..., 0, 0, 0]]], dtype=uint8)"
      ]
     },
     "execution_count": 142,
     "metadata": {},
     "output_type": "execute_result"
    }
   ],
   "source": [
    "x_train"
   ]
  },
  {
   "cell_type": "code",
   "execution_count": 143,
   "id": "01faea2e",
   "metadata": {},
   "outputs": [
    {
     "data": {
      "text/plain": [
       "5"
      ]
     },
     "execution_count": 143,
     "metadata": {},
     "output_type": "execute_result"
    }
   ],
   "source": [
    "y_train[0]"
   ]
  },
  {
   "cell_type": "code",
   "execution_count": 144,
   "id": "f8aefb9a",
   "metadata": {},
   "outputs": [
    {
     "data": {
      "text/plain": [
       "((60000, 28, 28), (60000,))"
      ]
     },
     "execution_count": 144,
     "metadata": {},
     "output_type": "execute_result"
    }
   ],
   "source": [
    "x_train.shape, y_train.shape"
   ]
  },
  {
   "cell_type": "markdown",
   "id": "d76cbddd",
   "metadata": {},
   "source": [
    "Since we expect MNIST to be images, we can also view the raw data as images"
   ]
  },
  {
   "cell_type": "code",
   "execution_count": 145,
   "id": "31df7993",
   "metadata": {},
   "outputs": [
    {
     "data": {
      "image/png": "[encoded data removed]",
      "text/plain": [
       "<Figure size 640x480 with 1 Axes>"
      ]
     },
     "metadata": {},
     "output_type": "display_data"
    }
   ],
   "source": [
    "idx = np.random.randint(len(x_train))\n",
    "\n",
    "plt.imshow(x_train[idx], cmap='gray')\n",
    "plt.title(\"label: \"+str(y_train[idx]))\n",
    "plt.show()"
   ]
  },
  {
   "cell_type": "markdown",
   "id": "e9c31d58",
   "metadata": {},
   "source": [
    "#### Preprocess data\n",
    "The next thing we need to do now is to reform our data such that it is valid to be used in conjunction with a neural network.\n",
    "> What is the required shape of the inputs?"
   ]
  },
  {
   "cell_type": "code",
   "execution_count": 147,
   "id": "f6ee2fb4",
   "metadata": {},
   "outputs": [],
   "source": [
    "x_train = x_train.reshape(x_train.shape[0], -1)\n",
    "x_test = x_test.reshape(x_test.shape[0], -1)"
   ]
  },
  {
   "cell_type": "code",
   "execution_count": 150,
   "id": "6a28bc19",
   "metadata": {},
   "outputs": [
    {
     "data": {
      "text/plain": [
       "array([  0,   0,   0,   0,   0,   0,   0,   0,   0,   0,   0,   0,   0,\n",
       "         0,   0,   0,   0,   0,   0,   0,   0,   0,   0,   0,   0,   0,\n",
       "         0,   0,   0,   0,   0,   0,   0,   0,   0,   0,   0,   0,   0,\n",
       "         0,   0,   0,   0,   0,   0,   0,   0,   0,   0,   0,   0,   0,\n",
       "         0,   0,   0,   0,   0,   0,   0,   0,   0,   0,   0,   0,   0,\n",
       "         0,   0,   0,   0,   0,   0,   0,   0,   0,   0,   0,   0,   0,\n",
       "         0,   0,   0,   0,   0,   0,   0,   0,   0,   0,   0,   0,   0,\n",
       "         0,   0,   0,   0,   0,   0,   0,   0,   0,   0,   0,   0,   0,\n",
       "         0,   0,   0,   0,   0,   0,   0,   0,   0,   0,   0,   0,   0,\n",
       "         0,   0,   0,   0,   0,   0,   0,   0,   0,   0,   0,   0,   0,\n",
       "         0,   0,   0,   0,   0,   0,   0,   0,   0,   0,   0,   0,   0,\n",
       "         0,   0,   0,   0,   0,   0,   0,   0,   0,   3,  18,  18,  18,\n",
       "       126, 136, 175,  26, 166, 255, 247, 127,   0,   0,   0,   0,   0,\n",
       "         0,   0,   0,   0,   0,   0,   0,  30,  36,  94, 154, 170, 253,\n",
       "       253, 253, 253, 253, 225, 172, 253, 242, 195,  64,   0,   0,   0,\n",
       "         0,   0,   0,   0,   0,   0,   0,   0,  49, 238, 253, 253, 253,\n",
       "       253, 253, 253, 253, 253, 251,  93,  82,  82,  56,  39,   0,   0,\n",
       "         0,   0,   0,   0,   0,   0,   0,   0,   0,   0,  18, 219, 253,\n",
       "       253, 253, 253, 253, 198, 182, 247, 241,   0,   0,   0,   0,   0,\n",
       "         0,   0,   0,   0,   0,   0,   0,   0,   0,   0,   0,   0,   0,\n",
       "        80, 156, 107, 253, 253, 205,  11,   0,  43, 154,   0,   0,   0,\n",
       "         0,   0,   0,   0,   0,   0,   0,   0,   0,   0,   0,   0,   0,\n",
       "         0,   0,   0,  14,   1, 154, 253,  90,   0,   0,   0,   0,   0,\n",
       "         0,   0,   0,   0,   0,   0,   0,   0,   0,   0,   0,   0,   0,\n",
       "         0,   0,   0,   0,   0,   0,   0, 139, 253, 190,   2,   0,   0,\n",
       "         0,   0,   0,   0,   0,   0,   0,   0,   0,   0,   0,   0,   0,\n",
       "         0,   0,   0,   0,   0,   0,   0,   0,   0,  11, 190, 253,  70,\n",
       "         0,   0,   0,   0,   0,   0,   0,   0,   0,   0,   0,   0,   0,\n",
       "         0,   0,   0,   0,   0,   0,   0,   0,   0,   0,   0,   0,  35,\n",
       "       241, 225, 160, 108,   1,   0,   0,   0,   0,   0,   0,   0,   0,\n",
       "         0,   0,   0,   0,   0,   0,   0,   0,   0,   0,   0,   0,   0,\n",
       "         0,   0,  81, 240, 253, 253, 119,  25,   0,   0,   0,   0,   0,\n",
       "         0,   0,   0,   0,   0,   0,   0,   0,   0,   0,   0,   0,   0,\n",
       "         0,   0,   0,   0,   0,  45, 186, 253, 253, 150,  27,   0,   0,\n",
       "         0,   0,   0,   0,   0,   0,   0,   0,   0,   0,   0,   0,   0,\n",
       "         0,   0,   0,   0,   0,   0,   0,   0,  16,  93, 252, 253, 187,\n",
       "         0,   0,   0,   0,   0,   0,   0,   0,   0,   0,   0,   0,   0,\n",
       "         0,   0,   0,   0,   0,   0,   0,   0,   0,   0,   0,   0, 249,\n",
       "       253, 249,  64,   0,   0,   0,   0,   0,   0,   0,   0,   0,   0,\n",
       "         0,   0,   0,   0,   0,   0,   0,   0,   0,   0,   0,  46, 130,\n",
       "       183, 253, 253, 207,   2,   0,   0,   0,   0,   0,   0,   0,   0,\n",
       "         0,   0,   0,   0,   0,   0,   0,   0,   0,   0,   0,  39, 148,\n",
       "       229, 253, 253, 253, 250, 182,   0,   0,   0,   0,   0,   0,   0,\n",
       "         0,   0,   0,   0,   0,   0,   0,   0,   0,   0,   0,  24, 114,\n",
       "       221, 253, 253, 253, 253, 201,  78,   0,   0,   0,   0,   0,   0,\n",
       "         0,   0,   0,   0,   0,   0,   0,   0,   0,   0,   0,  23,  66,\n",
       "       213, 253, 253, 253, 253, 198,  81,   2,   0,   0,   0,   0,   0,\n",
       "         0,   0,   0,   0,   0,   0,   0,   0,   0,   0,   0,  18, 171,\n",
       "       219, 253, 253, 253, 253, 195,  80,   9,   0,   0,   0,   0,   0,\n",
       "         0,   0,   0,   0,   0,   0,   0,   0,   0,   0,   0,  55, 172,\n",
       "       226, 253, 253, 253, 253, 244, 133,  11,   0,   0,   0,   0,   0,\n",
       "         0,   0,   0,   0,   0,   0,   0,   0,   0,   0,   0,   0,   0,\n",
       "       136, 253, 253, 253, 212, 135, 132,  16,   0,   0,   0,   0,   0,\n",
       "         0,   0,   0,   0,   0,   0,   0,   0,   0,   0,   0,   0,   0,\n",
       "         0,   0,   0,   0,   0,   0,   0,   0,   0,   0,   0,   0,   0,\n",
       "         0,   0,   0,   0,   0,   0,   0,   0,   0,   0,   0,   0,   0,\n",
       "         0,   0,   0,   0,   0,   0,   0,   0,   0,   0,   0,   0,   0,\n",
       "         0,   0,   0,   0,   0,   0,   0,   0,   0,   0,   0,   0,   0,\n",
       "         0,   0,   0,   0,   0,   0,   0,   0,   0,   0,   0,   0,   0,\n",
       "         0,   0,   0,   0,   0,   0,   0,   0,   0,   0,   0,   0,   0,\n",
       "         0,   0,   0,   0], dtype=uint8)"
      ]
     },
     "execution_count": 150,
     "metadata": {},
     "output_type": "execute_result"
    }
   ],
   "source": [
    "x_train[0]"
   ]
  },
  {
   "cell_type": "code",
   "execution_count": 151,
   "id": "0e5ad0da",
   "metadata": {},
   "outputs": [
    {
     "data": {
      "text/plain": [
       "(784,)"
      ]
     },
     "execution_count": 151,
     "metadata": {},
     "output_type": "execute_result"
    }
   ],
   "source": [
    "x_train[0].shape"
   ]
  },
  {
   "cell_type": "markdown",
   "id": "6bc87ebd",
   "metadata": {},
   "source": [
    "> What is the shape of the outputs?"
   ]
  },
  {
   "cell_type": "code",
   "execution_count": 154,
   "id": "c4c6f068",
   "metadata": {},
   "outputs": [],
   "source": [
    "# One-hot encode the labels\n",
    "from tensorflow.keras.utils import to_categorical\n",
    "\n",
    "y_train = to_categorical(y_train)\n",
    "y_test = to_categorical(y_test)"
   ]
  },
  {
   "cell_type": "code",
   "execution_count": 155,
   "id": "6dfb3f60",
   "metadata": {},
   "outputs": [
    {
     "data": {
      "text/plain": [
       "array([0., 0., 0., 0., 0., 1., 0., 0., 0., 0.], dtype=float32)"
      ]
     },
     "execution_count": 155,
     "metadata": {},
     "output_type": "execute_result"
    }
   ],
   "source": [
    "y_train[0]"
   ]
  },
  {
   "cell_type": "code",
   "execution_count": 156,
   "id": "48a2e3f3",
   "metadata": {},
   "outputs": [
    {
     "data": {
      "text/plain": [
       "(60000, 10)"
      ]
     },
     "execution_count": 156,
     "metadata": {},
     "output_type": "execute_result"
    }
   ],
   "source": [
    "y_train.shape"
   ]
  },
  {
   "cell_type": "markdown",
   "id": "ec2b7151",
   "metadata": {},
   "source": [
    "### Building the model\n",
    "Now, we can start with the actual NN. We first define our input and output sizes."
   ]
  },
  {
   "cell_type": "code",
   "execution_count": 103,
   "id": "23430ac9",
   "metadata": {},
   "outputs": [],
   "source": [
    "in_shape = 28*28\n",
    "out_shape = 10"
   ]
  },
  {
   "cell_type": "markdown",
   "id": "33f67890",
   "metadata": {},
   "source": [
    "Now, we define a _Sequential_ model in Tensorflow. What this essentially means is that the neural network contains layers of processing units stacks upon one another, and data flows through each from input to output. It is generally considered the simplest model, and is what we need to create an MLP.\n",
    "\n",
    "First, we can optionally define an input 'layer' to keep track of what the expected shape of the input is.\n",
    "\n",
    "Each next layer here is called a _Dense_ layer: each neuron from one layer is connected to every other from the next layer. These are also called fully-connected layers, and are used commonly in MLPs.\n",
    "\n",
    "Each of these layers has a regularised linear unit non-linear activation function. It is defined as:\n",
    "$$ \\text{ReLU}(x) = \\max(0,x) $$\n",
    "\n",
    "Finally, the final layer has a softmax activation function on it, which (i) is used to change the raw outputs to probabilities, and (ii) is the most commonly used output activation function in classification tasks."
   ]
  },
  {
   "cell_type": "code",
   "execution_count": 132,
   "id": "c1d84b0a",
   "metadata": {},
   "outputs": [],
   "source": [
    "model = models.Sequential()\n",
    "model.add(layers.Input(in_shape))\n",
    "model.add(layers.Dense(128, activation='relu'))\n",
    "model.add(layers.Dense(64, activation='relu'))\n",
    "model.add(layers.Dense(out_shape, activation='softmax'))"
   ]
  },
  {
   "cell_type": "markdown",
   "id": "cea81994",
   "metadata": {},
   "source": [
    "We now define a few important training requirements for the model -- how does it train, what loss function to use, and how do I measure how good my model is doing."
   ]
  },
  {
   "cell_type": "code",
   "execution_count": 157,
   "id": "c76b68c0",
   "metadata": {},
   "outputs": [],
   "source": [
    "model.compile(optimizer=optimizers.Adam(),\n",
    "                loss='categorical_crossentropy',\n",
    "                metrics=['accuracy'])"
   ]
  },
  {
   "cell_type": "markdown",
   "id": "b6f9630f",
   "metadata": {},
   "source": [
    "It is generally very good practice to also look at a summary of the model, just to make sure that the form of the model is what you want it to be. In this case, it should look all good!"
   ]
  },
  {
   "cell_type": "code",
   "execution_count": 159,
   "id": "175cf181",
   "metadata": {},
   "outputs": [
    {
     "name": "stdout",
     "output_type": "stream",
     "text": [
      "Model: \"sequential_9\"\n",
      "_________________________________________________________________\n",
      " Layer (type)                Output Shape              Param #   \n",
      "=================================================================\n",
      " dense_25 (Dense)            (None, 128)               100480    \n",
      "                                                                 \n",
      " dense_26 (Dense)            (None, 128)               16512     \n",
      "                                                                 \n",
      " dense_27 (Dense)            (None, 128)               16512     \n",
      "                                                                 \n",
      " dense_28 (Dense)            (None, 128)               16512     \n",
      "                                                                 \n",
      " dense_29 (Dense)            (None, 64)                8256      \n",
      "                                                                 \n",
      " dense_30 (Dense)            (None, 10)                650       \n",
      "                                                                 \n",
      "=================================================================\n",
      "Total params: 158,922\n",
      "Trainable params: 158,922\n",
      "Non-trainable params: 0\n",
      "_________________________________________________________________\n"
     ]
    }
   ],
   "source": [
    "model.summary()"
   ]
  },
  {
   "cell_type": "markdown",
   "id": "c4b1d09a",
   "metadata": {},
   "source": [
    "Training time! We now just need to call `model.fit()` with our data, the number of training cycles (epochs) and other factors that may influence training"
   ]
  },
  {
   "cell_type": "code",
   "execution_count": 160,
   "id": "2f9363ff",
   "metadata": {},
   "outputs": [
    {
     "name": "stdout",
     "output_type": "stream",
     "text": [
      "Epoch 1/40\n",
      "375/375 [==============================] - 2s 5ms/step - loss: 0.0187 - accuracy: 0.9950 - val_loss: 0.2684 - val_accuracy: 0.9690\n",
      "Epoch 2/40\n",
      "375/375 [==============================] - 2s 4ms/step - loss: 0.0210 - accuracy: 0.9943 - val_loss: 0.2030 - val_accuracy: 0.9735\n",
      "Epoch 3/40\n",
      "375/375 [==============================] - 2s 4ms/step - loss: 0.0175 - accuracy: 0.9956 - val_loss: 0.1982 - val_accuracy: 0.9727\n",
      "Epoch 4/40\n",
      "375/375 [==============================] - 2s 4ms/step - loss: 0.0235 - accuracy: 0.9946 - val_loss: 0.1758 - val_accuracy: 0.9763\n",
      "Epoch 5/40\n",
      "375/375 [==============================] - 2s 4ms/step - loss: 0.0218 - accuracy: 0.9947 - val_loss: 0.1544 - val_accuracy: 0.9758\n",
      "Epoch 6/40\n",
      "375/375 [==============================] - 2s 4ms/step - loss: 0.0222 - accuracy: 0.9947 - val_loss: 0.1572 - val_accuracy: 0.9736\n",
      "Epoch 7/40\n",
      "375/375 [==============================] - 2s 4ms/step - loss: 0.0125 - accuracy: 0.9968 - val_loss: 0.1672 - val_accuracy: 0.9758\n",
      "Epoch 8/40\n",
      "375/375 [==============================] - 2s 4ms/step - loss: 0.0082 - accuracy: 0.9978 - val_loss: 0.1894 - val_accuracy: 0.9770\n",
      "Epoch 9/40\n",
      "375/375 [==============================] - 2s 4ms/step - loss: 0.0150 - accuracy: 0.9963 - val_loss: 0.2060 - val_accuracy: 0.9679\n",
      "Epoch 10/40\n",
      "375/375 [==============================] - 2s 4ms/step - loss: 0.0157 - accuracy: 0.9960 - val_loss: 0.1541 - val_accuracy: 0.9758\n",
      "Epoch 11/40\n",
      "375/375 [==============================] - 2s 4ms/step - loss: 0.0154 - accuracy: 0.9960 - val_loss: 0.1600 - val_accuracy: 0.9755\n",
      "Epoch 12/40\n",
      "375/375 [==============================] - 2s 4ms/step - loss: 0.0121 - accuracy: 0.9967 - val_loss: 0.1827 - val_accuracy: 0.9748\n",
      "Epoch 13/40\n",
      "375/375 [==============================] - 2s 4ms/step - loss: 0.0132 - accuracy: 0.9968 - val_loss: 0.1706 - val_accuracy: 0.9743\n",
      "Epoch 14/40\n",
      "375/375 [==============================] - 2s 4ms/step - loss: 0.0149 - accuracy: 0.9964 - val_loss: 0.1865 - val_accuracy: 0.9756\n",
      "Epoch 15/40\n",
      "375/375 [==============================] - 2s 4ms/step - loss: 0.0207 - accuracy: 0.9950 - val_loss: 0.2397 - val_accuracy: 0.9728\n",
      "Epoch 16/40\n",
      "375/375 [==============================] - 2s 5ms/step - loss: 0.0200 - accuracy: 0.9956 - val_loss: 0.1875 - val_accuracy: 0.9720\n",
      "Epoch 17/40\n",
      "375/375 [==============================] - 2s 5ms/step - loss: 0.0115 - accuracy: 0.9974 - val_loss: 0.1529 - val_accuracy: 0.9764\n",
      "Epoch 18/40\n",
      "375/375 [==============================] - 2s 5ms/step - loss: 0.0056 - accuracy: 0.9985 - val_loss: 0.1850 - val_accuracy: 0.9758\n",
      "Epoch 19/40\n",
      "375/375 [==============================] - 2s 4ms/step - loss: 0.0068 - accuracy: 0.9986 - val_loss: 0.1822 - val_accuracy: 0.9768\n",
      "Epoch 20/40\n",
      "375/375 [==============================] - 2s 5ms/step - loss: 0.0066 - accuracy: 0.9984 - val_loss: 0.1980 - val_accuracy: 0.9742\n",
      "Epoch 21/40\n",
      "375/375 [==============================] - 2s 4ms/step - loss: 0.0217 - accuracy: 0.9950 - val_loss: 0.1800 - val_accuracy: 0.9732\n",
      "Epoch 22/40\n",
      "375/375 [==============================] - 2s 4ms/step - loss: 0.0125 - accuracy: 0.9972 - val_loss: 0.1586 - val_accuracy: 0.9772\n",
      "Epoch 23/40\n",
      "375/375 [==============================] - 2s 4ms/step - loss: 0.0125 - accuracy: 0.9971 - val_loss: 0.1661 - val_accuracy: 0.9759\n",
      "Epoch 24/40\n",
      "375/375 [==============================] - 2s 5ms/step - loss: 0.0103 - accuracy: 0.9971 - val_loss: 0.1683 - val_accuracy: 0.9759\n",
      "Epoch 25/40\n",
      "375/375 [==============================] - 2s 4ms/step - loss: 0.0115 - accuracy: 0.9972 - val_loss: 0.1748 - val_accuracy: 0.9726\n",
      "Epoch 26/40\n",
      "375/375 [==============================] - 2s 4ms/step - loss: 0.0181 - accuracy: 0.9954 - val_loss: 0.1574 - val_accuracy: 0.9742\n",
      "Epoch 27/40\n",
      "375/375 [==============================] - 2s 4ms/step - loss: 0.0084 - accuracy: 0.9981 - val_loss: 0.1697 - val_accuracy: 0.9770\n",
      "Epoch 28/40\n",
      "375/375 [==============================] - 2s 4ms/step - loss: 0.0111 - accuracy: 0.9974 - val_loss: 0.1748 - val_accuracy: 0.9760\n",
      "Epoch 29/40\n",
      "375/375 [==============================] - 2s 4ms/step - loss: 0.0053 - accuracy: 0.9989 - val_loss: 0.1716 - val_accuracy: 0.9765\n",
      "Epoch 30/40\n",
      "375/375 [==============================] - 2s 4ms/step - loss: 0.0025 - accuracy: 0.9994 - val_loss: 0.1833 - val_accuracy: 0.9768\n",
      "Epoch 31/40\n",
      "375/375 [==============================] - 2s 4ms/step - loss: 0.0020 - accuracy: 0.9995 - val_loss: 0.2063 - val_accuracy: 0.9749\n",
      "Epoch 32/40\n",
      "375/375 [==============================] - 2s 4ms/step - loss: 0.0243 - accuracy: 0.9948 - val_loss: 0.1884 - val_accuracy: 0.9736\n",
      "Epoch 33/40\n",
      "375/375 [==============================] - 2s 4ms/step - loss: 0.0215 - accuracy: 0.9954 - val_loss: 0.1977 - val_accuracy: 0.9772\n",
      "Epoch 34/40\n",
      "375/375 [==============================] - 2s 5ms/step - loss: 0.0318 - accuracy: 0.9942 - val_loss: 0.1564 - val_accuracy: 0.9710\n",
      "Epoch 35/40\n",
      "375/375 [==============================] - 2s 4ms/step - loss: 0.0122 - accuracy: 0.9971 - val_loss: 0.1665 - val_accuracy: 0.9768\n",
      "Epoch 36/40\n",
      "375/375 [==============================] - 2s 5ms/step - loss: 0.0060 - accuracy: 0.9986 - val_loss: 0.1737 - val_accuracy: 0.9786\n",
      "Epoch 37/40\n",
      "375/375 [==============================] - 2s 5ms/step - loss: 0.0036 - accuracy: 0.9989 - val_loss: 0.2488 - val_accuracy: 0.9756\n",
      "Epoch 38/40\n",
      "375/375 [==============================] - 2s 5ms/step - loss: 0.0076 - accuracy: 0.9982 - val_loss: 0.2213 - val_accuracy: 0.9764\n",
      "Epoch 39/40\n",
      "375/375 [==============================] - 2s 5ms/step - loss: 0.0119 - accuracy: 0.9971 - val_loss: 0.1976 - val_accuracy: 0.9713\n",
      "Epoch 40/40\n",
      "375/375 [==============================] - 2s 4ms/step - loss: 0.0155 - accuracy: 0.9967 - val_loss: 0.1743 - val_accuracy: 0.9773\n"
     ]
    },
    {
     "data": {
      "text/plain": [
       "<keras.callbacks.History at 0x19527f11960>"
      ]
     },
     "execution_count": 160,
     "metadata": {},
     "output_type": "execute_result"
    }
   ],
   "source": [
    "model.fit(x_train, y_train, epochs=5, batch_size=128, validation_split=0.2)"
   ]
  },
  {
   "cell_type": "markdown",
   "id": "935ac8a9",
   "metadata": {},
   "source": [
    "In order to make sure our model is training well, we can plot loss curves. This will also tell us whether or not our model is overfitting, and if there is anything we can do to help it train (e.g. changing some hyperparameters)."
   ]
  },
  {
   "cell_type": "code",
   "execution_count": 129,
   "id": "20247325",
   "metadata": {},
   "outputs": [],
   "source": [
    "# gather up learning history\n",
    "train_loss = model.history.history['loss']\n",
    "val_loss = model.history.history['val_loss']\n",
    "train_acc = model.history.history['accuracy']\n",
    "val_acc = model.history.history['val_accuracy']\n",
    "\n",
    "epochs = range(1, len(train_loss)+1)"
   ]
  },
  {
   "cell_type": "code",
   "execution_count": 161,
   "id": "2622ad8d",
   "metadata": {},
   "outputs": [
    {
     "data": {
      "image/png": "[encoded data removed]",
      "text/plain": [
       "<Figure size 1200x400 with 2 Axes>"
      ]
     },
     "metadata": {},
     "output_type": "display_data"
    }
   ],
   "source": [
    "plt.figure(figsize=(12, 4))\n",
    "plt.subplot(1, 2, 1)\n",
    "plt.plot(epochs, train_loss, label='Training loss')\n",
    "plt.plot(epochs, val_loss, label='Validation loss')\n",
    "plt.title('Training and validation loss')\n",
    "plt.legend()\n",
    "plt.grid()\n",
    "\n",
    "plt.subplot(1, 2, 2)\n",
    "plt.plot(epochs, train_acc, label='Training accuracy')\n",
    "plt.plot(epochs, val_acc, label='Validation accuracy')\n",
    "plt.title('Training and validation accuracy')\n",
    "plt.grid()\n",
    "plt.legend()\n",
    "plt.show()"
   ]
  },
  {
   "cell_type": "markdown",
   "id": "ab570341",
   "metadata": {},
   "source": [
    "Finally, we perform a test on a completely new, unseen dataset to prove that our model has indeed learnt how to classify images correctly."
   ]
  },
  {
   "cell_type": "code",
   "execution_count": 164,
   "id": "c9055e73",
   "metadata": {},
   "outputs": [
    {
     "name": "stdout",
     "output_type": "stream",
     "text": [
      "313/313 [==============================] - 1s 2ms/step - loss: 0.1575 - accuracy: 0.9786\n",
      "test_acc: 0.978600025177002\n"
     ]
    }
   ],
   "source": [
    "test_loss, test_acc = model.evaluate(x_test, y_test)\n",
    "print('test_acc:', test_acc)"
   ]
  },
  {
   "cell_type": "markdown",
   "id": "788ba8d4",
   "metadata": {},
   "source": [
    "From here, there are a lot of things we can do to continue our research:\n",
    "- Save the model for use elsewhere or training at a later time\n",
    "- Perform cross-validation\n",
    "- Search for optimal hyperparameters\n",
    "- Find and implement different neural network models.\n",
    "- ..."
   ]
  }
 ],
 "metadata": {
  "kernelspec": {
   "display_name": "Python 3 (ipykernel)",
   "language": "python",
   "name": "python3"
  },
  "language_info": {
   "codemirror_mode": {
    "name": "ipython",
    "version": 3
   },
   "file_extension": ".py",
   "mimetype": "text/x-python",
   "name": "python",
   "nbconvert_exporter": "python",
   "pygments_lexer": "ipython3",
   "version": "3.10.7"
  }
 },
 "nbformat": 4,
 "nbformat_minor": 5
}
